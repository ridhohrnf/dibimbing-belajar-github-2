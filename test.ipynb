{
 "cells": [
  {
   "cell_type": "code",
   "execution_count": 2,
   "metadata": {},
   "outputs": [
    {
     "name": "stdout",
     "output_type": "stream",
     "text": [
      "    Username   Identifier First name Last name\n",
      "0   booker12         9012     Rachel    Booker\n",
      "1     grey07         2070      Laura      Grey\n",
      "2  johnson81         4081      Craig   Johnson\n",
      "3  jenkins46         9346       Mary   Jenkins\n",
      "4    smith79         5079      Jamie     Smith\n"
     ]
    }
   ],
   "source": [
    "import pandas as pd\n",
    "\n",
    "df = pd.read_csv('username.csv',sep=';')\n",
    "\n",
    "print(df.to_string()) "
   ]
  }
 ],
 "metadata": {
  "kernelspec": {
   "display_name": "learn_pandas_final",
   "language": "python",
   "name": "python3"
  },
  "language_info": {
   "codemirror_mode": {
    "name": "ipython",
    "version": 3
   },
   "file_extension": ".py",
   "mimetype": "text/x-python",
   "name": "python",
   "nbconvert_exporter": "python",
   "pygments_lexer": "ipython3",
   "version": "3.8.19"
  }
 },
 "nbformat": 4,
 "nbformat_minor": 2
}
